{
 "cells": [
  {
   "cell_type": "code",
   "execution_count": 1,
   "id": "61eb6940-3d29-4a39-b8dd-cd1b580a0073",
   "metadata": {},
   "outputs": [],
   "source": [
    "import pandas as pd\n",
    "import numpy as np\n",
    "import matplotlib.pyplot as plt\n",
    "import datetime as dt\n",
    "import seaborn as sns"
   ]
  },
  {
   "cell_type": "code",
   "execution_count": 2,
   "id": "f3a52eac-2e56-4366-abbc-db394d7535a6",
   "metadata": {},
   "outputs": [],
   "source": [
    "Customer = pd.read_csv(\"Customer Acqusition.csv\")\n",
    "Repayment = pd.read_csv(\"Repayment.csv\")\n",
    "spend = pd.read_csv(\"spend.csv\")"
   ]
  },
  {
   "cell_type": "code",
   "execution_count": 3,
   "id": "152eed36-e259-45b4-b564-6642c4089a90",
   "metadata": {},
   "outputs": [
    {
     "data": {
      "text/html": [
       "<div>\n",
       "<style scoped>\n",
       "    .dataframe tbody tr th:only-of-type {\n",
       "        vertical-align: middle;\n",
       "    }\n",
       "\n",
       "    .dataframe tbody tr th {\n",
       "        vertical-align: top;\n",
       "    }\n",
       "\n",
       "    .dataframe thead th {\n",
       "        text-align: right;\n",
       "    }\n",
       "</style>\n",
       "<table border=\"1\" class=\"dataframe\">\n",
       "  <thead>\n",
       "    <tr style=\"text-align: right;\">\n",
       "      <th></th>\n",
       "      <th>SL No:</th>\n",
       "      <th>Customer</th>\n",
       "      <th>Month</th>\n",
       "      <th>Amount</th>\n",
       "    </tr>\n",
       "  </thead>\n",
       "  <tbody>\n",
       "    <tr>\n",
       "      <th>0</th>\n",
       "      <td>1.0</td>\n",
       "      <td>A1</td>\n",
       "      <td>12-Jan-04</td>\n",
       "      <td>495414.75</td>\n",
       "    </tr>\n",
       "    <tr>\n",
       "      <th>1</th>\n",
       "      <td>2.0</td>\n",
       "      <td>A1</td>\n",
       "      <td>3-Jan-04</td>\n",
       "      <td>245899.02</td>\n",
       "    </tr>\n",
       "    <tr>\n",
       "      <th>2</th>\n",
       "      <td>3.0</td>\n",
       "      <td>A1</td>\n",
       "      <td>15-Jan-04</td>\n",
       "      <td>259490.06</td>\n",
       "    </tr>\n",
       "    <tr>\n",
       "      <th>3</th>\n",
       "      <td>4.0</td>\n",
       "      <td>A1</td>\n",
       "      <td>25-Jan-04</td>\n",
       "      <td>437555.12</td>\n",
       "    </tr>\n",
       "    <tr>\n",
       "      <th>4</th>\n",
       "      <td>5.0</td>\n",
       "      <td>A1</td>\n",
       "      <td>17-Jan-05</td>\n",
       "      <td>165972.88</td>\n",
       "    </tr>\n",
       "    <tr>\n",
       "      <th>...</th>\n",
       "      <td>...</td>\n",
       "      <td>...</td>\n",
       "      <td>...</td>\n",
       "      <td>...</td>\n",
       "    </tr>\n",
       "    <tr>\n",
       "      <th>1495</th>\n",
       "      <td>1496.0</td>\n",
       "      <td>A67</td>\n",
       "      <td>9-May-05</td>\n",
       "      <td>55638.77</td>\n",
       "    </tr>\n",
       "    <tr>\n",
       "      <th>1496</th>\n",
       "      <td>1497.0</td>\n",
       "      <td>A68</td>\n",
       "      <td>10-May-06</td>\n",
       "      <td>319836.49</td>\n",
       "    </tr>\n",
       "    <tr>\n",
       "      <th>1497</th>\n",
       "      <td>1498.0</td>\n",
       "      <td>A69</td>\n",
       "      <td>11-Jul-06</td>\n",
       "      <td>247628.45</td>\n",
       "    </tr>\n",
       "    <tr>\n",
       "      <th>1498</th>\n",
       "      <td>1499.0</td>\n",
       "      <td>A70</td>\n",
       "      <td>12-Aug-05</td>\n",
       "      <td>454016.51</td>\n",
       "    </tr>\n",
       "    <tr>\n",
       "      <th>1499</th>\n",
       "      <td>1500.0</td>\n",
       "      <td>A71</td>\n",
       "      <td>13-Sep-04</td>\n",
       "      <td>56286.33</td>\n",
       "    </tr>\n",
       "  </tbody>\n",
       "</table>\n",
       "<p>1500 rows × 4 columns</p>\n",
       "</div>"
      ],
      "text/plain": [
       "      SL No: Customer      Month     Amount\n",
       "0        1.0       A1  12-Jan-04  495414.75\n",
       "1        2.0       A1   3-Jan-04  245899.02\n",
       "2        3.0       A1  15-Jan-04  259490.06\n",
       "3        4.0       A1  25-Jan-04  437555.12\n",
       "4        5.0       A1  17-Jan-05  165972.88\n",
       "...      ...      ...        ...        ...\n",
       "1495  1496.0      A67   9-May-05   55638.77\n",
       "1496  1497.0      A68  10-May-06  319836.49\n",
       "1497  1498.0      A69  11-Jul-06  247628.45\n",
       "1498  1499.0      A70  12-Aug-05  454016.51\n",
       "1499  1500.0      A71  13-Sep-04   56286.33\n",
       "\n",
       "[1500 rows x 4 columns]"
      ]
     },
     "execution_count": 3,
     "metadata": {},
     "output_type": "execute_result"
    }
   ],
   "source": [
    "Repayment.drop(\"Unnamed: 4\", inplace =True, axis = 1)\n",
    "Repayment.at[0, \"SL No:\"] = 1\n",
    "Repayment.dropna(inplace = True)\n",
    "Repayment"
   ]
  },
  {
   "cell_type": "code",
   "execution_count": 4,
   "id": "72d4c335-10e3-445b-b27f-2df647400c16",
   "metadata": {},
   "outputs": [
    {
     "name": "stdout",
     "output_type": "stream",
     "text": [
      "<class 'pandas.core.frame.DataFrame'>\n",
      "RangeIndex: 100 entries, 0 to 99\n",
      "Data columns (total 8 columns):\n",
      " #   Column    Non-Null Count  Dtype  \n",
      "---  ------    --------------  -----  \n",
      " 0   No        100 non-null    int64  \n",
      " 1   Customer  100 non-null    object \n",
      " 2   Age       100 non-null    int64  \n",
      " 3   City      100 non-null    object \n",
      " 4   Product   100 non-null    object \n",
      " 5   Limit     100 non-null    float64\n",
      " 6   Company   100 non-null    object \n",
      " 7   Segment   100 non-null    object \n",
      "dtypes: float64(1), int64(2), object(5)\n",
      "memory usage: 6.4+ KB\n",
      "<class 'pandas.core.frame.DataFrame'>\n",
      "Int64Index: 1500 entries, 0 to 1499\n",
      "Data columns (total 4 columns):\n",
      " #   Column    Non-Null Count  Dtype  \n",
      "---  ------    --------------  -----  \n",
      " 0   SL No:    1500 non-null   float64\n",
      " 1   Customer  1500 non-null   object \n",
      " 2   Month     1500 non-null   object \n",
      " 3   Amount    1500 non-null   float64\n",
      "dtypes: float64(2), object(2)\n",
      "memory usage: 58.6+ KB\n",
      "<class 'pandas.core.frame.DataFrame'>\n",
      "RangeIndex: 1500 entries, 0 to 1499\n",
      "Data columns (total 5 columns):\n",
      " #   Column    Non-Null Count  Dtype  \n",
      "---  ------    --------------  -----  \n",
      " 0   Sl No:    1500 non-null   int64  \n",
      " 1   Customer  1500 non-null   object \n",
      " 2   Month     1500 non-null   object \n",
      " 3   Type      1500 non-null   object \n",
      " 4   Amount    1500 non-null   float64\n",
      "dtypes: float64(1), int64(1), object(3)\n",
      "memory usage: 58.7+ KB\n"
     ]
    }
   ],
   "source": [
    "Customer.info()\n",
    "Repayment.info()\n",
    "spend.info()"
   ]
  },
  {
   "cell_type": "markdown",
   "id": "b359b4df-95a3-4293-8bc7-a6e317cbf293",
   "metadata": {},
   "source": [
    "### 1. In the above dataset"
   ]
  },
  {
   "cell_type": "markdown",
   "id": "5c137ff7-b11e-4d5f-81e0-3f464833c07e",
   "metadata": {},
   "source": [
    "####  a. In case age is less than 18, replace it with mean of age values."
   ]
  },
  {
   "cell_type": "code",
   "execution_count": 5,
   "id": "a32702df-c757-4d2d-b4a0-ad19cf2670db",
   "metadata": {},
   "outputs": [],
   "source": [
    "mean_age = Customer[\"Age\"].mean()\n",
    "Customer[\"Age\"] = Customer[\"Age\"].apply(lambda x : mean_age if x < 18 else x)\n",
    "Customer[\"Age\"] = Customer[\"Age\"].astype(int)"
   ]
  },
  {
   "cell_type": "code",
   "execution_count": 6,
   "id": "e9ca8f0d-3d16-4b2a-8875-9dc07cacdc46",
   "metadata": {},
   "outputs": [
    {
     "data": {
      "text/html": [
       "<div>\n",
       "<style scoped>\n",
       "    .dataframe tbody tr th:only-of-type {\n",
       "        vertical-align: middle;\n",
       "    }\n",
       "\n",
       "    .dataframe tbody tr th {\n",
       "        vertical-align: top;\n",
       "    }\n",
       "\n",
       "    .dataframe thead th {\n",
       "        text-align: right;\n",
       "    }\n",
       "</style>\n",
       "<table border=\"1\" class=\"dataframe\">\n",
       "  <thead>\n",
       "    <tr style=\"text-align: right;\">\n",
       "      <th></th>\n",
       "      <th>No</th>\n",
       "      <th>Customer</th>\n",
       "      <th>Age</th>\n",
       "      <th>City</th>\n",
       "      <th>Product</th>\n",
       "      <th>Limit</th>\n",
       "      <th>Company</th>\n",
       "      <th>Segment</th>\n",
       "    </tr>\n",
       "  </thead>\n",
       "  <tbody>\n",
       "    <tr>\n",
       "      <th>13</th>\n",
       "      <td>14</td>\n",
       "      <td>A14</td>\n",
       "      <td>46</td>\n",
       "      <td>BANGALORE</td>\n",
       "      <td>Gold</td>\n",
       "      <td>500000.0</td>\n",
       "      <td>C14</td>\n",
       "      <td>Salaried_Pvt</td>\n",
       "    </tr>\n",
       "    <tr>\n",
       "      <th>40</th>\n",
       "      <td>41</td>\n",
       "      <td>A41</td>\n",
       "      <td>46</td>\n",
       "      <td>COCHIN</td>\n",
       "      <td>Platimum</td>\n",
       "      <td>500000.0</td>\n",
       "      <td>C23</td>\n",
       "      <td>Govt</td>\n",
       "    </tr>\n",
       "    <tr>\n",
       "      <th>53</th>\n",
       "      <td>54</td>\n",
       "      <td>A54</td>\n",
       "      <td>46</td>\n",
       "      <td>COCHIN</td>\n",
       "      <td>Platimum</td>\n",
       "      <td>500000.0</td>\n",
       "      <td>C16</td>\n",
       "      <td>Normal Salary</td>\n",
       "    </tr>\n",
       "    <tr>\n",
       "      <th>62</th>\n",
       "      <td>63</td>\n",
       "      <td>A63</td>\n",
       "      <td>46</td>\n",
       "      <td>BANGALORE</td>\n",
       "      <td>Gold</td>\n",
       "      <td>500000.0</td>\n",
       "      <td>C25</td>\n",
       "      <td>Self Employed</td>\n",
       "    </tr>\n",
       "    <tr>\n",
       "      <th>67</th>\n",
       "      <td>68</td>\n",
       "      <td>A68</td>\n",
       "      <td>46</td>\n",
       "      <td>TRIVANDRUM</td>\n",
       "      <td>Silver</td>\n",
       "      <td>100000.0</td>\n",
       "      <td>C30</td>\n",
       "      <td>Self Employed</td>\n",
       "    </tr>\n",
       "    <tr>\n",
       "      <th>69</th>\n",
       "      <td>70</td>\n",
       "      <td>A70</td>\n",
       "      <td>46</td>\n",
       "      <td>BOMBAY</td>\n",
       "      <td>Platimum</td>\n",
       "      <td>10001.0</td>\n",
       "      <td>C32</td>\n",
       "      <td>Self Employed</td>\n",
       "    </tr>\n",
       "    <tr>\n",
       "      <th>89</th>\n",
       "      <td>90</td>\n",
       "      <td>A90</td>\n",
       "      <td>46</td>\n",
       "      <td>COCHIN</td>\n",
       "      <td>Gold</td>\n",
       "      <td>500000.0</td>\n",
       "      <td>C13</td>\n",
       "      <td>Govt</td>\n",
       "    </tr>\n",
       "  </tbody>\n",
       "</table>\n",
       "</div>"
      ],
      "text/plain": [
       "    No Customer  Age        City   Product     Limit Company        Segment\n",
       "13  14      A14   46   BANGALORE      Gold  500000.0     C14   Salaried_Pvt\n",
       "40  41      A41   46      COCHIN  Platimum  500000.0     C23           Govt\n",
       "53  54      A54   46      COCHIN  Platimum  500000.0     C16  Normal Salary\n",
       "62  63      A63   46   BANGALORE      Gold  500000.0     C25  Self Employed\n",
       "67  68      A68   46  TRIVANDRUM    Silver  100000.0     C30  Self Employed\n",
       "69  70      A70   46      BOMBAY  Platimum   10001.0     C32  Self Employed\n",
       "89  90      A90   46      COCHIN      Gold  500000.0     C13           Govt"
      ]
     },
     "execution_count": 6,
     "metadata": {},
     "output_type": "execute_result"
    }
   ],
   "source": [
    "Customer[Customer[\"Age\"] == 46]"
   ]
  },
  {
   "cell_type": "markdown",
   "id": "d90260b1-39fb-41e8-93c2-b91fc8183067",
   "metadata": {},
   "source": [
    "#### b. In case spend amount is more than the limit, replace it with 50% of that customer’s limit. "
   ]
  },
  {
   "cell_type": "code",
   "execution_count": 7,
   "id": "0fa8d1c1-1491-4291-844e-7d4ca06dfc47",
   "metadata": {},
   "outputs": [
    {
     "data": {
      "text/html": [
       "<div>\n",
       "<style scoped>\n",
       "    .dataframe tbody tr th:only-of-type {\n",
       "        vertical-align: middle;\n",
       "    }\n",
       "\n",
       "    .dataframe tbody tr th {\n",
       "        vertical-align: top;\n",
       "    }\n",
       "\n",
       "    .dataframe thead th {\n",
       "        text-align: right;\n",
       "    }\n",
       "</style>\n",
       "<table border=\"1\" class=\"dataframe\">\n",
       "  <thead>\n",
       "    <tr style=\"text-align: right;\">\n",
       "      <th></th>\n",
       "      <th>Sl No:</th>\n",
       "      <th>Customer</th>\n",
       "      <th>Month</th>\n",
       "      <th>Type</th>\n",
       "      <th>Amount</th>\n",
       "      <th>Age</th>\n",
       "      <th>City</th>\n",
       "      <th>Product</th>\n",
       "      <th>Limit</th>\n",
       "      <th>Company</th>\n",
       "      <th>Segment</th>\n",
       "      <th>spend_amount</th>\n",
       "    </tr>\n",
       "  </thead>\n",
       "  <tbody>\n",
       "    <tr>\n",
       "      <th>7</th>\n",
       "      <td>8</td>\n",
       "      <td>A8</td>\n",
       "      <td>5-Feb-04</td>\n",
       "      <td>BIKE</td>\n",
       "      <td>155562.58</td>\n",
       "      <td>67</td>\n",
       "      <td>PATNA</td>\n",
       "      <td>Silver</td>\n",
       "      <td>100002.0</td>\n",
       "      <td>C8</td>\n",
       "      <td>Salaried_Pvt</td>\n",
       "      <td>50001.0</td>\n",
       "    </tr>\n",
       "    <tr>\n",
       "      <th>18</th>\n",
       "      <td>19</td>\n",
       "      <td>A19</td>\n",
       "      <td>4-Apr-05</td>\n",
       "      <td>FOOD</td>\n",
       "      <td>441442.26</td>\n",
       "      <td>27</td>\n",
       "      <td>BANGALORE</td>\n",
       "      <td>Platimum</td>\n",
       "      <td>10000.0</td>\n",
       "      <td>C19</td>\n",
       "      <td>Salaried_Pvt</td>\n",
       "      <td>5000.0</td>\n",
       "    </tr>\n",
       "    <tr>\n",
       "      <th>19</th>\n",
       "      <td>20</td>\n",
       "      <td>A20</td>\n",
       "      <td>30-Apr-06</td>\n",
       "      <td>JEWELLERY</td>\n",
       "      <td>356733.48</td>\n",
       "      <td>27</td>\n",
       "      <td>CALCUTTA</td>\n",
       "      <td>Platimum</td>\n",
       "      <td>10001.0</td>\n",
       "      <td>C20</td>\n",
       "      <td>Govt</td>\n",
       "      <td>5000.5</td>\n",
       "    </tr>\n",
       "    <tr>\n",
       "      <th>20</th>\n",
       "      <td>21</td>\n",
       "      <td>A21</td>\n",
       "      <td>25-Apr-04</td>\n",
       "      <td>PETRO</td>\n",
       "      <td>190011.63</td>\n",
       "      <td>57</td>\n",
       "      <td>COCHIN</td>\n",
       "      <td>Platimum</td>\n",
       "      <td>10002.0</td>\n",
       "      <td>C21</td>\n",
       "      <td>Normal Salary</td>\n",
       "      <td>5001.0</td>\n",
       "    </tr>\n",
       "    <tr>\n",
       "      <th>21</th>\n",
       "      <td>22</td>\n",
       "      <td>A22</td>\n",
       "      <td>19-Apr-06</td>\n",
       "      <td>CLOTHES</td>\n",
       "      <td>423672.50</td>\n",
       "      <td>27</td>\n",
       "      <td>BOMBAY</td>\n",
       "      <td>Silver</td>\n",
       "      <td>100000.0</td>\n",
       "      <td>C22</td>\n",
       "      <td>Self Employed</td>\n",
       "      <td>50000.0</td>\n",
       "    </tr>\n",
       "    <tr>\n",
       "      <th>...</th>\n",
       "      <td>...</td>\n",
       "      <td>...</td>\n",
       "      <td>...</td>\n",
       "      <td>...</td>\n",
       "      <td>...</td>\n",
       "      <td>...</td>\n",
       "      <td>...</td>\n",
       "      <td>...</td>\n",
       "      <td>...</td>\n",
       "      <td>...</td>\n",
       "      <td>...</td>\n",
       "      <td>...</td>\n",
       "    </tr>\n",
       "    <tr>\n",
       "      <th>1485</th>\n",
       "      <td>1486</td>\n",
       "      <td>A59</td>\n",
       "      <td>15-Jan-04</td>\n",
       "      <td>FOOD</td>\n",
       "      <td>181115.20</td>\n",
       "      <td>74</td>\n",
       "      <td>BANGALORE</td>\n",
       "      <td>Silver</td>\n",
       "      <td>100003.0</td>\n",
       "      <td>C21</td>\n",
       "      <td>Normal Salary</td>\n",
       "      <td>50001.5</td>\n",
       "    </tr>\n",
       "    <tr>\n",
       "      <th>1496</th>\n",
       "      <td>1497</td>\n",
       "      <td>A68</td>\n",
       "      <td>25-Mar-06</td>\n",
       "      <td>BUS TICKET</td>\n",
       "      <td>204971.10</td>\n",
       "      <td>46</td>\n",
       "      <td>TRIVANDRUM</td>\n",
       "      <td>Silver</td>\n",
       "      <td>100000.0</td>\n",
       "      <td>C30</td>\n",
       "      <td>Self Employed</td>\n",
       "      <td>50000.0</td>\n",
       "    </tr>\n",
       "    <tr>\n",
       "      <th>1497</th>\n",
       "      <td>1498</td>\n",
       "      <td>A69</td>\n",
       "      <td>31-Mar-06</td>\n",
       "      <td>BUS TICKET</td>\n",
       "      <td>50449.44</td>\n",
       "      <td>33</td>\n",
       "      <td>CALCUTTA</td>\n",
       "      <td>Platimum</td>\n",
       "      <td>10000.0</td>\n",
       "      <td>C31</td>\n",
       "      <td>Self Employed</td>\n",
       "      <td>5000.0</td>\n",
       "    </tr>\n",
       "    <tr>\n",
       "      <th>1498</th>\n",
       "      <td>1499</td>\n",
       "      <td>A70</td>\n",
       "      <td>23-Mar-06</td>\n",
       "      <td>BUS TICKET</td>\n",
       "      <td>80593.94</td>\n",
       "      <td>46</td>\n",
       "      <td>BOMBAY</td>\n",
       "      <td>Platimum</td>\n",
       "      <td>10001.0</td>\n",
       "      <td>C32</td>\n",
       "      <td>Self Employed</td>\n",
       "      <td>5000.5</td>\n",
       "    </tr>\n",
       "    <tr>\n",
       "      <th>1499</th>\n",
       "      <td>1500</td>\n",
       "      <td>A71</td>\n",
       "      <td>24-Mar-06</td>\n",
       "      <td>BUS TICKET</td>\n",
       "      <td>194447.62</td>\n",
       "      <td>34</td>\n",
       "      <td>BOMBAY</td>\n",
       "      <td>Platimum</td>\n",
       "      <td>10002.0</td>\n",
       "      <td>C33</td>\n",
       "      <td>Self Employed</td>\n",
       "      <td>5001.0</td>\n",
       "    </tr>\n",
       "  </tbody>\n",
       "</table>\n",
       "<p>607 rows × 12 columns</p>\n",
       "</div>"
      ],
      "text/plain": [
       "      Sl No: Customer      Month        Type     Amount  Age        City  \\\n",
       "7          8       A8   5-Feb-04        BIKE  155562.58   67       PATNA   \n",
       "18        19      A19   4-Apr-05        FOOD  441442.26   27   BANGALORE   \n",
       "19        20      A20  30-Apr-06   JEWELLERY  356733.48   27    CALCUTTA   \n",
       "20        21      A21  25-Apr-04       PETRO  190011.63   57      COCHIN   \n",
       "21        22      A22  19-Apr-06     CLOTHES  423672.50   27      BOMBAY   \n",
       "...      ...      ...        ...         ...        ...  ...         ...   \n",
       "1485    1486      A59  15-Jan-04        FOOD  181115.20   74   BANGALORE   \n",
       "1496    1497      A68  25-Mar-06  BUS TICKET  204971.10   46  TRIVANDRUM   \n",
       "1497    1498      A69  31-Mar-06  BUS TICKET   50449.44   33    CALCUTTA   \n",
       "1498    1499      A70  23-Mar-06  BUS TICKET   80593.94   46      BOMBAY   \n",
       "1499    1500      A71  24-Mar-06  BUS TICKET  194447.62   34      BOMBAY   \n",
       "\n",
       "       Product     Limit Company        Segment  spend_amount  \n",
       "7       Silver  100002.0      C8   Salaried_Pvt       50001.0  \n",
       "18    Platimum   10000.0     C19   Salaried_Pvt        5000.0  \n",
       "19    Platimum   10001.0     C20           Govt        5000.5  \n",
       "20    Platimum   10002.0     C21  Normal Salary        5001.0  \n",
       "21      Silver  100000.0     C22  Self Employed       50000.0  \n",
       "...        ...       ...     ...            ...           ...  \n",
       "1485    Silver  100003.0     C21  Normal Salary       50001.5  \n",
       "1496    Silver  100000.0     C30  Self Employed       50000.0  \n",
       "1497  Platimum   10000.0     C31  Self Employed        5000.0  \n",
       "1498  Platimum   10001.0     C32  Self Employed        5000.5  \n",
       "1499  Platimum   10002.0     C33  Self Employed        5001.0  \n",
       "\n",
       "[607 rows x 12 columns]"
      ]
     },
     "execution_count": 7,
     "metadata": {},
     "output_type": "execute_result"
    }
   ],
   "source": [
    "# merging customer and spend table\n",
    "customer_spend = spend.merge(Customer, left_on = \"Customer\", right_on = \"Customer\", how = \"left\" )\n",
    "customer_spend.drop(\"No\",axis =1 , inplace =True )\n",
    "# adding new coloum with new limit\n",
    "customer_spend[\"spend_amount\"] = customer_spend.apply(lambda x : x[\"Limit\"]*.50 if x[\"Limit\"] < x[\"Amount\"] else x[\"Amount\"], axis = 1)\n",
    "# values with exceeded limit\n",
    "customer_spend[customer_spend[\"Limit\"]< customer_spend[\"Amount\"] ]\n"
   ]
  },
  {
   "cell_type": "markdown",
   "id": "997592f4-0e93-45aa-9dce-790c30180460",
   "metadata": {},
   "source": [
    "#### c. Incase the repayment amount is more than the limit, replace the repayment with the limit"
   ]
  },
  {
   "cell_type": "code",
   "execution_count": 8,
   "id": "a7d3db74-5164-4889-99e2-68b51527a320",
   "metadata": {},
   "outputs": [
    {
     "data": {
      "text/html": [
       "<div>\n",
       "<style scoped>\n",
       "    .dataframe tbody tr th:only-of-type {\n",
       "        vertical-align: middle;\n",
       "    }\n",
       "\n",
       "    .dataframe tbody tr th {\n",
       "        vertical-align: top;\n",
       "    }\n",
       "\n",
       "    .dataframe thead th {\n",
       "        text-align: right;\n",
       "    }\n",
       "</style>\n",
       "<table border=\"1\" class=\"dataframe\">\n",
       "  <thead>\n",
       "    <tr style=\"text-align: right;\">\n",
       "      <th></th>\n",
       "      <th>No</th>\n",
       "      <th>Customer</th>\n",
       "      <th>Age</th>\n",
       "      <th>City</th>\n",
       "      <th>Product</th>\n",
       "      <th>Limit</th>\n",
       "      <th>Company</th>\n",
       "      <th>Segment</th>\n",
       "      <th>Month</th>\n",
       "      <th>Repayment_amount</th>\n",
       "      <th>updated_Amount</th>\n",
       "    </tr>\n",
       "  </thead>\n",
       "  <tbody>\n",
       "    <tr>\n",
       "      <th>0</th>\n",
       "      <td>1</td>\n",
       "      <td>A1</td>\n",
       "      <td>76</td>\n",
       "      <td>BANGALORE</td>\n",
       "      <td>Gold</td>\n",
       "      <td>500000.0</td>\n",
       "      <td>C1</td>\n",
       "      <td>Self Employed</td>\n",
       "      <td>12-Jan-04</td>\n",
       "      <td>495414.75</td>\n",
       "      <td>495414.75</td>\n",
       "    </tr>\n",
       "    <tr>\n",
       "      <th>1</th>\n",
       "      <td>1</td>\n",
       "      <td>A1</td>\n",
       "      <td>76</td>\n",
       "      <td>BANGALORE</td>\n",
       "      <td>Gold</td>\n",
       "      <td>500000.0</td>\n",
       "      <td>C1</td>\n",
       "      <td>Self Employed</td>\n",
       "      <td>3-Jan-04</td>\n",
       "      <td>245899.02</td>\n",
       "      <td>245899.02</td>\n",
       "    </tr>\n",
       "    <tr>\n",
       "      <th>2</th>\n",
       "      <td>1</td>\n",
       "      <td>A1</td>\n",
       "      <td>76</td>\n",
       "      <td>BANGALORE</td>\n",
       "      <td>Gold</td>\n",
       "      <td>500000.0</td>\n",
       "      <td>C1</td>\n",
       "      <td>Self Employed</td>\n",
       "      <td>15-Jan-04</td>\n",
       "      <td>259490.06</td>\n",
       "      <td>259490.06</td>\n",
       "    </tr>\n",
       "    <tr>\n",
       "      <th>3</th>\n",
       "      <td>1</td>\n",
       "      <td>A1</td>\n",
       "      <td>76</td>\n",
       "      <td>BANGALORE</td>\n",
       "      <td>Gold</td>\n",
       "      <td>500000.0</td>\n",
       "      <td>C1</td>\n",
       "      <td>Self Employed</td>\n",
       "      <td>25-Jan-04</td>\n",
       "      <td>437555.12</td>\n",
       "      <td>437555.12</td>\n",
       "    </tr>\n",
       "    <tr>\n",
       "      <th>4</th>\n",
       "      <td>1</td>\n",
       "      <td>A1</td>\n",
       "      <td>76</td>\n",
       "      <td>BANGALORE</td>\n",
       "      <td>Gold</td>\n",
       "      <td>500000.0</td>\n",
       "      <td>C1</td>\n",
       "      <td>Self Employed</td>\n",
       "      <td>17-Jan-05</td>\n",
       "      <td>165972.88</td>\n",
       "      <td>165972.88</td>\n",
       "    </tr>\n",
       "    <tr>\n",
       "      <th>...</th>\n",
       "      <td>...</td>\n",
       "      <td>...</td>\n",
       "      <td>...</td>\n",
       "      <td>...</td>\n",
       "      <td>...</td>\n",
       "      <td>...</td>\n",
       "      <td>...</td>\n",
       "      <td>...</td>\n",
       "      <td>...</td>\n",
       "      <td>...</td>\n",
       "      <td>...</td>\n",
       "    </tr>\n",
       "    <tr>\n",
       "      <th>1495</th>\n",
       "      <td>96</td>\n",
       "      <td>A96</td>\n",
       "      <td>54</td>\n",
       "      <td>CHENNAI</td>\n",
       "      <td>Silver</td>\n",
       "      <td>100000.0</td>\n",
       "      <td>C19</td>\n",
       "      <td>Salaried_Pvt</td>\n",
       "      <td>25-Jan-04</td>\n",
       "      <td>310992.30</td>\n",
       "      <td>100000.00</td>\n",
       "    </tr>\n",
       "    <tr>\n",
       "      <th>1496</th>\n",
       "      <td>97</td>\n",
       "      <td>A97</td>\n",
       "      <td>58</td>\n",
       "      <td>TRIVANDRUM</td>\n",
       "      <td>Platimum</td>\n",
       "      <td>10000.0</td>\n",
       "      <td>C20</td>\n",
       "      <td>Govt</td>\n",
       "      <td>12-Jan-04</td>\n",
       "      <td>121874.90</td>\n",
       "      <td>10000.00</td>\n",
       "    </tr>\n",
       "    <tr>\n",
       "      <th>1497</th>\n",
       "      <td>98</td>\n",
       "      <td>A98</td>\n",
       "      <td>51</td>\n",
       "      <td>CALCUTTA</td>\n",
       "      <td>Platimum</td>\n",
       "      <td>10001.0</td>\n",
       "      <td>C21</td>\n",
       "      <td>Normal Salary</td>\n",
       "      <td>3-Jan-04</td>\n",
       "      <td>337815.57</td>\n",
       "      <td>10001.00</td>\n",
       "    </tr>\n",
       "    <tr>\n",
       "      <th>1498</th>\n",
       "      <td>99</td>\n",
       "      <td>A99</td>\n",
       "      <td>35</td>\n",
       "      <td>CALCUTTA</td>\n",
       "      <td>Platimum</td>\n",
       "      <td>10002.0</td>\n",
       "      <td>C22</td>\n",
       "      <td>Self Employed</td>\n",
       "      <td>15-Jan-04</td>\n",
       "      <td>25682.73</td>\n",
       "      <td>10002.00</td>\n",
       "    </tr>\n",
       "    <tr>\n",
       "      <th>1499</th>\n",
       "      <td>100</td>\n",
       "      <td>A100</td>\n",
       "      <td>36</td>\n",
       "      <td>COCHIN</td>\n",
       "      <td>Silver</td>\n",
       "      <td>100000.0</td>\n",
       "      <td>C5</td>\n",
       "      <td>Salaried_MNC</td>\n",
       "      <td>25-Jan-04</td>\n",
       "      <td>69551.19</td>\n",
       "      <td>69551.19</td>\n",
       "    </tr>\n",
       "  </tbody>\n",
       "</table>\n",
       "<p>1500 rows × 11 columns</p>\n",
       "</div>"
      ],
      "text/plain": [
       "       No Customer  Age        City   Product     Limit Company  \\\n",
       "0       1       A1   76   BANGALORE      Gold  500000.0      C1   \n",
       "1       1       A1   76   BANGALORE      Gold  500000.0      C1   \n",
       "2       1       A1   76   BANGALORE      Gold  500000.0      C1   \n",
       "3       1       A1   76   BANGALORE      Gold  500000.0      C1   \n",
       "4       1       A1   76   BANGALORE      Gold  500000.0      C1   \n",
       "...   ...      ...  ...         ...       ...       ...     ...   \n",
       "1495   96      A96   54     CHENNAI    Silver  100000.0     C19   \n",
       "1496   97      A97   58  TRIVANDRUM  Platimum   10000.0     C20   \n",
       "1497   98      A98   51    CALCUTTA  Platimum   10001.0     C21   \n",
       "1498   99      A99   35    CALCUTTA  Platimum   10002.0     C22   \n",
       "1499  100     A100   36      COCHIN    Silver  100000.0      C5   \n",
       "\n",
       "            Segment      Month  Repayment_amount  updated_Amount  \n",
       "0     Self Employed  12-Jan-04         495414.75       495414.75  \n",
       "1     Self Employed   3-Jan-04         245899.02       245899.02  \n",
       "2     Self Employed  15-Jan-04         259490.06       259490.06  \n",
       "3     Self Employed  25-Jan-04         437555.12       437555.12  \n",
       "4     Self Employed  17-Jan-05         165972.88       165972.88  \n",
       "...             ...        ...               ...             ...  \n",
       "1495   Salaried_Pvt  25-Jan-04         310992.30       100000.00  \n",
       "1496           Govt  12-Jan-04         121874.90        10000.00  \n",
       "1497  Normal Salary   3-Jan-04         337815.57        10001.00  \n",
       "1498  Self Employed  15-Jan-04          25682.73        10002.00  \n",
       "1499   Salaried_MNC  25-Jan-04          69551.19        69551.19  \n",
       "\n",
       "[1500 rows x 11 columns]"
      ]
     },
     "execution_count": 8,
     "metadata": {},
     "output_type": "execute_result"
    }
   ],
   "source": [
    "# merging Repayment table to customer spend \n",
    "customer_repayment = Customer.merge(Repayment, left_on = \"Customer\" , right_on = \"Customer\" , how = \"left\")\n",
    "customer_repayment.drop(\"SL No:\", inplace =True , axis = 1)\n",
    "customer_repayment = customer_repayment.rename(columns={\"Amount\": \"Repayment_amount\"})\n",
    "#updated repayment amount\n",
    "customer_repayment[\"updated_Amount\"] = customer_repayment.apply(lambda x : x[\"Repayment_amount\"] if x[\"Limit\"] > x[\"Repayment_amount\"] else x[\"Limit\"] , axis = 1)\n",
    "customer_repayment"
   ]
  },
  {
   "cell_type": "markdown",
   "id": "6e946618-e05f-4c3b-aa01-aa7093e8b3af",
   "metadata": {},
   "source": [
    "### 2. From the above dataset create the following summaries:"
   ]
  },
  {
   "cell_type": "markdown",
   "id": "01735985-972a-44f8-bf5b-9f78d1436203",
   "metadata": {},
   "source": [
    "#### a. How many distinct customers exist?"
   ]
  },
  {
   "cell_type": "code",
   "execution_count": 9,
   "id": "cd63971e-9948-43e1-9edf-4c42c3fce7f8",
   "metadata": {},
   "outputs": [
    {
     "name": "stdout",
     "output_type": "stream",
     "text": [
      " No.of distinct customer is 100\n"
     ]
    }
   ],
   "source": [
    "num_of_cust = Customer[\"Customer\"].nunique()\n",
    "print(f\" No.of distinct customer is {num_of_cust}\")"
   ]
  },
  {
   "cell_type": "markdown",
   "id": "8c05560c-3f38-4958-af30-d06e9f25e34b",
   "metadata": {},
   "source": [
    "####  b. How many distinct categories exist?\n"
   ]
  },
  {
   "cell_type": "code",
   "execution_count": 10,
   "id": "fac59e84-c563-4751-8a1b-fcdb3d37fbc7",
   "metadata": {},
   "outputs": [
    {
     "name": "stdout",
     "output_type": "stream",
     "text": [
      " No.of distinct categories is 3\n"
     ]
    }
   ],
   "source": [
    "num_of_cat = Customer[\"Product\"].nunique()\n",
    "print(f\" No.of distinct categories is {num_of_cat}\")"
   ]
  },
  {
   "cell_type": "markdown",
   "id": "5215f565-b49c-4e68-91de-95797212c2a9",
   "metadata": {},
   "source": [
    "#### c. What is the average monthly spend by customers?\n"
   ]
  },
  {
   "cell_type": "code",
   "execution_count": 11,
   "id": "b7122724-6f28-417e-a6c7-eeb0b4bdb045",
   "metadata": {},
   "outputs": [
    {
     "name": "stdout",
     "output_type": "stream",
     "text": [
      " The average monthly spend by a customer is  243096.05\n"
     ]
    }
   ],
   "source": [
    "avg_spend =  round(customer_spend[\"Amount\"].mean(),2)\n",
    "print(f\" The average monthly spend by a customer is  {avg_spend}\")\n"
   ]
  },
  {
   "cell_type": "markdown",
   "id": "b9010167-76d3-44c6-82f9-1e80ebad246f",
   "metadata": {},
   "source": [
    "#### d. What is the average monthly repayment by customers?"
   ]
  },
  {
   "cell_type": "code",
   "execution_count": 12,
   "id": "76a73aa0-2722-4e7f-b3fc-7207f17a5439",
   "metadata": {},
   "outputs": [
    {
     "name": "stdout",
     "output_type": "stream",
     "text": [
      " The average monthly repayment by a customer is  247890.05\n"
     ]
    }
   ],
   "source": [
    "avg_rapay = round(customer_repayment[\"Repayment_amount\"].mean(),2)\n",
    "print(f\" The average monthly repayment by a customer is  {avg_rapay}\")"
   ]
  },
  {
   "cell_type": "markdown",
   "id": "133b6ff0-7ad1-4aff-97c7-c7dccd2eedd2",
   "metadata": {},
   "source": [
    "####  e. If the monthly rate of interest is 2.9%, what is the profit for the bank for each month?"
   ]
  },
  {
   "cell_type": "code",
   "execution_count": 13,
   "id": "04e769bb-c20d-44b4-892a-a9ab04547a45",
   "metadata": {},
   "outputs": [
    {
     "data": {
      "text/plain": [
       "Month\n",
       "January      677814.12\n",
       "February     324293.62\n",
       "May          210492.79\n",
       "March        177609.11\n",
       "April         82555.43\n",
       "November      67428.20\n",
       "July          27938.34\n",
       "September     24369.38\n",
       "June          23986.56\n",
       "October       22470.92\n",
       "December      15519.54\n",
       "August        15287.12\n",
       "Name: Intrest, dtype: float64"
      ]
     },
     "execution_count": 13,
     "metadata": {},
     "output_type": "execute_result"
    }
   ],
   "source": [
    "# merging customer spend and customer repayment column\n",
    "Repayment_Spend = customer_repayment.merge(customer_spend, left_on=[\"Customer\", \"Month\"], right_on=[\"Customer\", \"Month\"], how=\"left\")\n",
    "# droping all the duplicated columns\n",
    "Repayment_Spend.drop([\"Sl No:\",\"Age_y\",\"City_y\",\"Product_y\",\"Limit_y\",\"Company_y\",\"Segment_y\",],axis = 1, inplace = True)\n",
    "#renaming columns\n",
    "Repayment_Spend =Repayment_Spend.rename(columns = {\"Age_x\" : \"Age\",\"City_x\" :\"City\", \"Product_x\" : \"Product\" , \"Limit_x\" : \"Limit\", \"Company_x\" : \"Company\" , \"Company_x\" : \"Company\",\"Segment_x\" : \"Segment\", \"updated_Amount\" : \"updated_repay_Amount\", \"Month\" : \"Date\"})\n",
    "# calculating monthly profit\n",
    "Repayment_Spend[\"monthly_profit\"] = Repayment_Spend[\"updated_repay_Amount\"] - Repayment_Spend[\"spend_amount\"]\n",
    "# instrest earned by bank on monthly profit\n",
    "Repayment_Spend[\"Intrest\"] = Repayment_Spend.apply(lambda x : x[\"monthly_profit\"]*0.029 if x[\"monthly_profit\"] > 0 else 0 ,axis = 1)\n",
    "# conveting month to date time\n",
    "Repayment_Spend[\"Date\"] = pd.to_datetime(Repayment_Spend[\"Date\"], format = (\"%d-%b-%y\"))\n",
    "#calling month from date\n",
    "Repayment_Spend[\"Month\"] = Repayment_Spend[\"Date\"].dt.month\n",
    "Repayment_Spend[\"Month\"] = pd.to_datetime(Repayment_Spend[\"Month\"], format = (\"%m\"))\n",
    "Repayment_Spend[\"Month\"] = Repayment_Spend[\"Month\"].dt.strftime(\"%B\")\n",
    "monthly_profit = round(Repayment_Spend.groupby(\"Month\")[\"Intrest\"].sum(),2).sort_values(ascending = False)\n",
    "monthly_profit\n"
   ]
  },
  {
   "cell_type": "markdown",
   "id": "b8f7dcd7-c1bb-41b3-8b66-6d55b9911d4f",
   "metadata": {},
   "source": [
    "#### f. What are the top 5 product types?"
   ]
  },
  {
   "cell_type": "code",
   "execution_count": 14,
   "id": "8f2a9a8a-b8ab-46ae-abaf-0f790e52f82d",
   "metadata": {},
   "outputs": [
    {
     "data": {
      "text/plain": [
       "Type\n",
       "CAMERA          19943003.00\n",
       "PETRO           13667106.67\n",
       "FOOD            12888728.98\n",
       "BUS TICKET      11449175.92\n",
       "MOVIE TICKET    10123108.77\n",
       "Name: spend_amount, dtype: float64"
      ]
     },
     "execution_count": 14,
     "metadata": {},
     "output_type": "execute_result"
    }
   ],
   "source": [
    "top_5_product_type = Repayment_Spend.groupby(\"Type\")[\"spend_amount\"].sum().sort_values(ascending = False).head(5)\n",
    "top_5_product_type"
   ]
  },
  {
   "cell_type": "markdown",
   "id": "56415fda-301e-4966-87f7-872255beb8fe",
   "metadata": {},
   "source": [
    "####  g. Which city is having maximum spend?"
   ]
  },
  {
   "cell_type": "code",
   "execution_count": 15,
   "id": "51e26e81-3446-438f-bb43-4fe9a4ecbbea",
   "metadata": {},
   "outputs": [
    {
     "name": "stdout",
     "output_type": "stream",
     "text": [
      "The city with the highest spend is COCHIN\n"
     ]
    }
   ],
   "source": [
    "max_spend_city = Repayment_Spend.groupby(\"City\")[\"spend_amount\"].sum().idxmax()\n",
    "print(f\"The city with the highest spend is {max_spend_city}\")"
   ]
  },
  {
   "cell_type": "markdown",
   "id": "f77b69fe-277f-4af5-b36b-17a634c12055",
   "metadata": {},
   "source": [
    "#### h. Which age group is spending more money?\n"
   ]
  },
  {
   "cell_type": "code",
   "execution_count": 16,
   "id": "66f7f5c2-b515-496a-bada-1d1d5fd2296d",
   "metadata": {},
   "outputs": [
    {
     "name": "stdout",
     "output_type": "stream",
     "text": [
      "The age group with the highest spend is: 28\n"
     ]
    }
   ],
   "source": [
    "age_group = Repayment_Spend.groupby(\"Age\")[\"spend_amount\"].sum()\n",
    "age_group = age_group.idxmax()\n",
    "print(f\"The age group with the highest spend is: {age_group}\")"
   ]
  },
  {
   "cell_type": "markdown",
   "id": "1415ae25-bb85-4663-849d-424513fd8483",
   "metadata": {},
   "source": [
    "#### i. Who are the top 10 customers in terms of repayment?"
   ]
  },
  {
   "cell_type": "code",
   "execution_count": 17,
   "id": "9541fdfe-ac20-46a1-8037-e2c3619bbda9",
   "metadata": {},
   "outputs": [
    {
     "data": {
      "text/plain": [
       "Customer\n",
       "A60    14247712.08\n",
       "A61    12639553.00\n",
       "A13    11904605.14\n",
       "A44    11742878.29\n",
       "A43    11242328.32\n",
       "A45    11078020.75\n",
       "A38    10154349.88\n",
       "A14     9676289.74\n",
       "A42     9456592.25\n",
       "A12     9297660.19\n",
       "Name: updated_repay_Amount, dtype: float64"
      ]
     },
     "execution_count": 17,
     "metadata": {},
     "output_type": "execute_result"
    }
   ],
   "source": [
    "top_10_cust =  Repayment_Spend.groupby(\"Customer\")[\"updated_repay_Amount\"].sum().sort_values(ascending = False).head(10)\n",
    "top_10_cust"
   ]
  },
  {
   "cell_type": "markdown",
   "id": "621365ed-7f05-4e66-9fbc-1c39eb181e98",
   "metadata": {},
   "source": [
    "### 3. Calculate the city wise spend on each product on yearly basis. Also include a graphical representation for the same."
   ]
  },
  {
   "cell_type": "code",
   "execution_count": 18,
   "id": "3ccc9157-dcf3-4bcb-91b1-6e500b5b233e",
   "metadata": {},
   "outputs": [
    {
     "data": {
      "image/png": "[encoded data removed]",
      "text/plain": [
       "<Figure size 1350x900 with 3 Axes>"
      ]
     },
     "metadata": {},
     "output_type": "display_data"
    }
   ],
   "source": [
    "Repayment_Spend[\"year\"] = Repayment_Spend[\"Date\"].dt.year\n",
    "fig, axs = plt.subplots(3, 1, figsize=(13.5, 9))\n",
    "years = Repayment_Spend[\"year\"].unique()\n",
    "for i, year in enumerate(years):\n",
    "    sns.barplot(data=Repayment_Spend[Repayment_Spend[\"year\"] == year], x=\"City\", y=\"spend_amount\", hue=\"Product\", ax=axs[i],errwidth = 0,)\n",
    "    axs[i].set_title(year)\n",
    "    axs[i].get_legend().remove()\n",
    "    \n",
    "\n",
    "handles, labels = axs[1].get_legend_handles_labels()\n",
    "fig.legend(handles, labels ,bbox_to_anchor=(1, 1), loc='upper left', title = \"Product\")\n",
    "plt.tight_layout()\n",
    "plt.show()\n",
    "\n"
   ]
  },
  {
   "cell_type": "markdown",
   "id": "2040d043-5b0e-4bb9-9d2d-a532eeff7e97",
   "metadata": {},
   "source": [
    "\n",
    "### 4. Create graphs for\n",
    "\n",
    " "
   ]
  },
  {
   "cell_type": "markdown",
   "id": "cb82bb84-2248-4f28-abd5-e05b44d027bf",
   "metadata": {},
   "source": [
    "####  a. Monthly comparison of total spends, city wise"
   ]
  },
  {
   "cell_type": "code",
   "execution_count": 19,
   "id": "35a95a3d-418f-4107-94d8-57240250d719",
   "metadata": {},
   "outputs": [
    {
     "data": {
      "image/png": "[encoded data removed]",
      "text/plain": [
       "<Figure size 1350x900 with 1 Axes>"
      ]
     },
     "metadata": {},
     "output_type": "display_data"
    }
   ],
   "source": [
    "plt.figure(figsize = (13.5,9))\n",
    "\n",
    "sns.barplot(x='Month', y='spend_amount', hue='City', data=Repayment_Spend, errwidth = 0)\n",
    "\n",
    "\n",
    "\n",
    "plt.show()"
   ]
  },
  {
   "cell_type": "markdown",
   "id": "860f55e3-8cf8-49f5-876c-34a3f2c5d175",
   "metadata": {},
   "source": [
    "#### b. Comparison of yearly spend on air tickets"
   ]
  },
  {
   "cell_type": "code",
   "execution_count": 20,
   "id": "82892509-5597-48cd-923d-ad912a2c8868",
   "metadata": {},
   "outputs": [
    {
     "data": {
      "image/png": "[encoded data removed]",
      "text/plain": [
       "<Figure size 640x480 with 1 Axes>"
      ]
     },
     "metadata": {},
     "output_type": "display_data"
    }
   ],
   "source": [
    "air_ticket = Repayment_Spend[Repayment_Spend[\"Type\"] == \"AIR TICKET\"] \n",
    "air_ticket_spend = air_ticket.groupby(\"year\")[\"spend_amount\"].sum()\n",
    "air_ticket_spend.plot(kind = \"bar\")\n",
    "plt.title('yearly spend on air tickets')\n",
    "plt.show()"
   ]
  },
  {
   "cell_type": "markdown",
   "id": "ebcdab90-fa06-49cd-916a-e527b4cdf25a",
   "metadata": {},
   "source": [
    "#### c. Comparison of monthly spend for each product "
   ]
  },
  {
   "cell_type": "code",
   "execution_count": 21,
   "id": "d313e7b0-24d5-4443-b5fa-7b6bb1cf2dad",
   "metadata": {},
   "outputs": [
    {
     "data": {
      "image/png": "[encoded data removed]",
      "text/plain": [
       "<Figure size 1350x900 with 1 Axes>"
      ]
     },
     "metadata": {},
     "output_type": "display_data"
    }
   ],
   "source": [
    "# CREATE A STACKED BAR CHART\n",
    "plt.figure(figsize = (13.5,9))\n",
    "sns.barplot(data = Repayment_Spend, x = \"Month\", y  = \"spend_amount\", hue = \"Product\", errwidth = 0, )\n",
    "plt.title(\"Comparison of monthly spend for each product\")\n",
    "plt.show()"
   ]
  },
  {
   "cell_type": "markdown",
   "id": "7c0f1509-b093-4cd4-bef1-f297a53f41e3",
   "metadata": {},
   "source": [
    "### 5. Write user defined PYTHON function to perform the following analysis:\n"
   ]
  },
  {
   "cell_type": "code",
   "execution_count": 73,
   "id": "fda88b87-934d-4b2e-a1c5-f42a742ddc2f",
   "metadata": {},
   "outputs": [],
   "source": [
    "def top_10_cust(df,product,time_period):\n",
    "    df = df[df[\"Product\"] == product]\n",
    "    df.reset_index(inplace = True)\n",
    "    if time_period == \"yearly\":\n",
    "        df =df.groupby([\"City\",\"year\",\"Customer\"]).agg({\"updated_repay_Amount\" : \"sum\"})\n",
    "        df.reset_index(inplace = True)\n",
    "    elif time_period == \"monthly\":\n",
    "        df =df.groupby([\"City\",\"Month\",\"Customer\"]).agg({\"updated_repay_Amount\" : \"sum\"})\n",
    "        df.reset_index(inplace = True)\n",
    "    else:\n",
    "        return \"Invalid time period. Please specify 'yearly' or 'monthly'\"\n",
    "    top_10_dict = {}\n",
    "    for city in df[\"City\"].unique():\n",
    "        city_df = df[df[\"City\"] == city]\n",
    "        city_df = city_df.sort_values(\"updated_repay_Amount\", ascending=False)\n",
    "        city_df = city_df.reset_index(drop=True)\n",
    "        top_10 = city_df.head(10)[\"Customer\"].tolist()\n",
    "        top_10_dict[city] = top_10\n",
    "    return top_10_dict\n"
   ]
  },
  {
   "cell_type": "code",
   "execution_count": 74,
   "id": "c87383a7-26b3-4787-b956-3f2863489ede",
   "metadata": {},
   "outputs": [
    {
     "name": "stdout",
     "output_type": "stream",
     "text": [
      "{'BANGALORE': ['A1', 'A13', 'A43', 'A30', 'A13', 'A14', 'A43', 'A14', 'A43', 'A14'], 'BOMBAY': ['A42', 'A42', 'A12', 'A17', 'A12', 'A62', 'A12', 'A62', 'A17', 'A12'], 'CALCUTTA': ['A60', 'A29', 'A60', 'A60', 'A15', 'A15', 'A29', 'A15', 'A10', 'A31'], 'CHENNAI': ['A27', 'A27', 'A27', 'A27', 'A27', 'A27', 'A27', 'A27', 'A27', 'A27'], 'COCHIN': ['A45', 'A61', 'A61', 'A61', 'A45', 'A16', 'A45', 'A11', 'A16', 'A11'], 'DELHI': ['A44', 'A44', 'A44', 'A44', 'A44', 'A44', 'A44', 'A44', 'A93', 'A82'], 'PATNA': ['A26', 'A26', 'A26', 'A26', 'A66', 'A26', 'A26', 'A26', 'A95', 'A26'], 'TRIVANDRUM': ['A28', 'A28', 'A28', 'A28', 'A28', 'A28', 'A28', 'A28']}\n"
     ]
    }
   ],
   "source": [
    "top_10_dict = top_10_cust(Repayment_Spend, \"Gold\", \"monthly\")\n",
    "print(top_10_dict)\n",
    "\n",
    "\n",
    "\n",
    "        "
   ]
  },
  {
   "cell_type": "code",
   "execution_count": null,
   "id": "9bbd5b4e-3cfe-4b4c-91b6-38ae0064440e",
   "metadata": {},
   "outputs": [],
   "source": []
  }
 ],
 "metadata": {
  "kernelspec": {
   "display_name": "Python 3 (ipykernel)",
   "language": "python",
   "name": "python3"
  },
  "language_info": {
   "codemirror_mode": {
    "name": "ipython",
    "version": 3
   },
   "file_extension": ".py",
   "mimetype": "text/x-python",
   "name": "python",
   "nbconvert_exporter": "python",
   "pygments_lexer": "ipython3",
   "version": "3.9.13"
  }
 },
 "nbformat": 4,
 "nbformat_minor": 5
}
